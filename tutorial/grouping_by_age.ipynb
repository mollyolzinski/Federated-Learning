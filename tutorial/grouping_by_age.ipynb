{
 "cells": [
  {
   "cell_type": "code",
   "execution_count": null,
   "metadata": {},
   "outputs": [],
   "source": [
    "# importing pandas\n",
    "import pandas as pd\n",
    "# import csv\n",
    "import csv\n",
    "# load data into df \n",
    "df = pd.read_csv('hbn_fs_dataset.csv')\n",
    "# head()\n",
    "print(df.head())"
   ]
  },
  {
   "cell_type": "code",
   "execution_count": null,
   "metadata": {},
   "outputs": [],
   "source": [
    "# add a new column (rounded_age) which is the age column to the nearest whole number\n",
    "# df['rounded_age'] = df['age'].round()\n",
    "# print(df)"
   ]
  },
  {
   "cell_type": "code",
   "execution_count": null,
   "metadata": {},
   "outputs": [],
   "source": [
    "# sorted all columns by values in age and reset the index\n",
    "df_sorted = df.sort_values(by='age').reset_index(drop=True)\n",
    "\n",
    "print(df_sorted)"
   ]
  },
  {
   "cell_type": "code",
   "execution_count": null,
   "metadata": {},
   "outputs": [],
   "source": [
    "# add grouping variable column based on indices\n",
    "def assign_group(index):\n",
    "    if index <= 74:\n",
    "        return '1'\n",
    "    elif   74 < index < 149:\n",
    "        return '2'\n",
    "    else:\n",
    "        return '3'\n",
    "\n",
    "# Apply the function to create the 'Group' column\n",
    "df_sorted['AgeGroup'] = df.index.to_series().apply(assign_group)\n",
    "\n",
    "print(df_sorted)"
   ]
  },
  {
   "cell_type": "code",
   "execution_count": null,
   "metadata": {},
   "outputs": [],
   "source": [
    "groups = df_sorted[['AgeGroup']]\n",
    "print(groups)\n",
    "\n",
    "group1 = groups[groups['AgeGroup'] == '1']\n",
    "num_rows = group1.shape[0]\n",
    "\n",
    "print(f\"Number of observations: {num_rows}\")\n",
    "\n",
    "group2 = groups[groups['AgeGroup'] == '2']\n",
    "num_rows2 = group2.shape[0]\n",
    "\n",
    "print(f\"Number of observations: {num_rows2}\")\n",
    "\n",
    "group3 = groups[groups['AgeGroup'] == '3']\n",
    "num_rows3 = group3.shape[0]\n",
    "\n",
    "print(f\"Number of observations: {num_rows3}\")"
   ]
  },
  {
   "cell_type": "code",
   "execution_count": null,
   "metadata": {},
   "outputs": [],
   "source": [
    "file_path = 'C:/Users/Admin/Documents/Federated-Learning/tutorial/groups_age.csv'\n",
    "df_sorted.to_csv(file_path, index=False)"
   ]
  }
 ],
 "metadata": {
  "kernelspec": {
   "display_name": "flowerproject",
   "language": "python",
   "name": "python3"
  },
  "language_info": {
   "codemirror_mode": {
    "name": "ipython",
    "version": 3
   },
   "file_extension": ".py",
   "mimetype": "text/x-python",
   "name": "python",
   "nbconvert_exporter": "python",
   "pygments_lexer": "ipython3",
   "version": "3.12.4"
  }
 },
 "nbformat": 4,
 "nbformat_minor": 2
}
